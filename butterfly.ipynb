{
 "cells": [
  {
   "cell_type": "markdown",
   "id": "25423de0",
   "metadata": {},
   "source": [
    "# Raw Data to Actionable Decisions"
   ]
  },
  {
   "cell_type": "markdown",
   "id": "c191c252",
   "metadata": {},
   "source": [
    "## Import Libraries"
   ]
  },
  {
   "cell_type": "code",
   "execution_count": 12,
   "id": "a0dbe0cd",
   "metadata": {},
   "outputs": [],
   "source": [
    "import pandas as pd\n",
    "import numpy as np\n",
    "from scipy.sparse import coo_matrix\n",
    "import seaborn as sns\n",
    "import matplotlib.pyplot as plt"
   ]
  },
  {
   "cell_type": "markdown",
   "id": "68b55144",
   "metadata": {},
   "source": [
    "## Import Dataset"
   ]
  },
  {
   "cell_type": "code",
   "execution_count": 13,
   "id": "00e55e9e",
   "metadata": {},
   "outputs": [
    {
     "data": {
      "text/html": [
       "<div>\n",
       "<style scoped>\n",
       "    .dataframe tbody tr th:only-of-type {\n",
       "        vertical-align: middle;\n",
       "    }\n",
       "\n",
       "    .dataframe tbody tr th {\n",
       "        vertical-align: top;\n",
       "    }\n",
       "\n",
       "    .dataframe thead th {\n",
       "        text-align: right;\n",
       "    }\n",
       "</style>\n",
       "<table border=\"1\" class=\"dataframe\">\n",
       "  <thead>\n",
       "    <tr style=\"text-align: right;\">\n",
       "      <th></th>\n",
       "      <th>x</th>\n",
       "      <th>y</th>\n",
       "    </tr>\n",
       "  </thead>\n",
       "  <tbody>\n",
       "    <tr>\n",
       "      <th>0</th>\n",
       "      <td>10.662224</td>\n",
       "      <td>66.916501</td>\n",
       "    </tr>\n",
       "    <tr>\n",
       "      <th>1</th>\n",
       "      <td>11.185640</td>\n",
       "      <td>68.831535</td>\n",
       "    </tr>\n",
       "    <tr>\n",
       "      <th>2</th>\n",
       "      <td>11.108675</td>\n",
       "      <td>64.001879</td>\n",
       "    </tr>\n",
       "    <tr>\n",
       "      <th>3</th>\n",
       "      <td>11.202875</td>\n",
       "      <td>62.492179</td>\n",
       "    </tr>\n",
       "    <tr>\n",
       "      <th>4</th>\n",
       "      <td>11.316173</td>\n",
       "      <td>70.564287</td>\n",
       "    </tr>\n",
       "    <tr>\n",
       "      <th>...</th>\n",
       "      <td>...</td>\n",
       "      <td>...</td>\n",
       "    </tr>\n",
       "    <tr>\n",
       "      <th>264</th>\n",
       "      <td>62.858430</td>\n",
       "      <td>84.287356</td>\n",
       "    </tr>\n",
       "    <tr>\n",
       "      <th>265</th>\n",
       "      <td>63.711752</td>\n",
       "      <td>82.256996</td>\n",
       "    </tr>\n",
       "    <tr>\n",
       "      <th>266</th>\n",
       "      <td>63.285561</td>\n",
       "      <td>83.416485</td>\n",
       "    </tr>\n",
       "    <tr>\n",
       "      <th>267</th>\n",
       "      <td>64.882836</td>\n",
       "      <td>78.779783</td>\n",
       "    </tr>\n",
       "    <tr>\n",
       "      <th>268</th>\n",
       "      <td>15.785210</td>\n",
       "      <td>53.808618</td>\n",
       "    </tr>\n",
       "  </tbody>\n",
       "</table>\n",
       "<p>269 rows × 2 columns</p>\n",
       "</div>"
      ],
      "text/plain": [
       "             x          y\n",
       "0    10.662224  66.916501\n",
       "1    11.185640  68.831535\n",
       "2    11.108675  64.001879\n",
       "3    11.202875  62.492179\n",
       "4    11.316173  70.564287\n",
       "..         ...        ...\n",
       "264  62.858430  84.287356\n",
       "265  63.711752  82.256996\n",
       "266  63.285561  83.416485\n",
       "267  64.882836  78.779783\n",
       "268  15.785210  53.808618\n",
       "\n",
       "[269 rows x 2 columns]"
      ]
     },
     "execution_count": 13,
     "metadata": {},
     "output_type": "execute_result"
    }
   ],
   "source": [
    "df = pd.read_csv(\"Default Dataset (1).csv\")\n",
    "df"
   ]
  },
  {
   "cell_type": "code",
   "execution_count": 14,
   "id": "129cc84f",
   "metadata": {},
   "outputs": [
    {
     "name": "stdout",
     "output_type": "stream",
     "text": [
      "<class 'pandas.core.frame.DataFrame'>\n",
      "RangeIndex: 269 entries, 0 to 268\n",
      "Data columns (total 2 columns):\n",
      " #   Column  Non-Null Count  Dtype  \n",
      "---  ------  --------------  -----  \n",
      " 0   x       269 non-null    float64\n",
      " 1   y       269 non-null    float64\n",
      "dtypes: float64(2)\n",
      "memory usage: 4.3 KB\n"
     ]
    }
   ],
   "source": [
    "df.info()"
   ]
  },
  {
   "cell_type": "code",
   "execution_count": 15,
   "id": "5e0034df",
   "metadata": {},
   "outputs": [],
   "source": [
    "# Remove any rows where coordinates are out of the expected range (0-100)\n",
    "df = df[(df['x'] >= 0) & (df['x'] <= 100) & (df['y'] >= 0) & (df['y'] <= 100)]"
   ]
  },
  {
   "cell_type": "code",
   "execution_count": 16,
   "id": "6d38360c",
   "metadata": {},
   "outputs": [
    {
     "data": {
      "text/html": [
       "<div>\n",
       "<style scoped>\n",
       "    .dataframe tbody tr th:only-of-type {\n",
       "        vertical-align: middle;\n",
       "    }\n",
       "\n",
       "    .dataframe tbody tr th {\n",
       "        vertical-align: top;\n",
       "    }\n",
       "\n",
       "    .dataframe thead th {\n",
       "        text-align: right;\n",
       "    }\n",
       "</style>\n",
       "<table border=\"1\" class=\"dataframe\">\n",
       "  <thead>\n",
       "    <tr style=\"text-align: right;\">\n",
       "      <th></th>\n",
       "      <th>x</th>\n",
       "      <th>y</th>\n",
       "    </tr>\n",
       "  </thead>\n",
       "  <tbody>\n",
       "    <tr>\n",
       "      <th>0</th>\n",
       "      <td>10.662224</td>\n",
       "      <td>66.916501</td>\n",
       "    </tr>\n",
       "    <tr>\n",
       "      <th>1</th>\n",
       "      <td>11.185640</td>\n",
       "      <td>68.831535</td>\n",
       "    </tr>\n",
       "    <tr>\n",
       "      <th>2</th>\n",
       "      <td>11.108675</td>\n",
       "      <td>64.001879</td>\n",
       "    </tr>\n",
       "    <tr>\n",
       "      <th>3</th>\n",
       "      <td>11.202875</td>\n",
       "      <td>62.492179</td>\n",
       "    </tr>\n",
       "    <tr>\n",
       "      <th>4</th>\n",
       "      <td>11.316173</td>\n",
       "      <td>70.564287</td>\n",
       "    </tr>\n",
       "    <tr>\n",
       "      <th>...</th>\n",
       "      <td>...</td>\n",
       "      <td>...</td>\n",
       "    </tr>\n",
       "    <tr>\n",
       "      <th>264</th>\n",
       "      <td>62.858430</td>\n",
       "      <td>84.287356</td>\n",
       "    </tr>\n",
       "    <tr>\n",
       "      <th>265</th>\n",
       "      <td>63.711752</td>\n",
       "      <td>82.256996</td>\n",
       "    </tr>\n",
       "    <tr>\n",
       "      <th>266</th>\n",
       "      <td>63.285561</td>\n",
       "      <td>83.416485</td>\n",
       "    </tr>\n",
       "    <tr>\n",
       "      <th>267</th>\n",
       "      <td>64.882836</td>\n",
       "      <td>78.779783</td>\n",
       "    </tr>\n",
       "    <tr>\n",
       "      <th>268</th>\n",
       "      <td>15.785210</td>\n",
       "      <td>53.808618</td>\n",
       "    </tr>\n",
       "  </tbody>\n",
       "</table>\n",
       "<p>269 rows × 2 columns</p>\n",
       "</div>"
      ],
      "text/plain": [
       "             x          y\n",
       "0    10.662224  66.916501\n",
       "1    11.185640  68.831535\n",
       "2    11.108675  64.001879\n",
       "3    11.202875  62.492179\n",
       "4    11.316173  70.564287\n",
       "..         ...        ...\n",
       "264  62.858430  84.287356\n",
       "265  63.711752  82.256996\n",
       "266  63.285561  83.416485\n",
       "267  64.882836  78.779783\n",
       "268  15.785210  53.808618\n",
       "\n",
       "[269 rows x 2 columns]"
      ]
     },
     "execution_count": 16,
     "metadata": {},
     "output_type": "execute_result"
    }
   ],
   "source": [
    "df"
   ]
  },
  {
   "cell_type": "code",
   "execution_count": 17,
   "id": "64805e2c",
   "metadata": {},
   "outputs": [
    {
     "name": "stdout",
     "output_type": "stream",
     "text": [
      "  (10, 66)\t1.0\n",
      "  (11, 68)\t1.0\n",
      "  (11, 64)\t1.0\n",
      "  (11, 62)\t1.0\n",
      "  (11, 70)\t1.0\n",
      "  (11, 72)\t1.0\n",
      "  (12, 61)\t1.0\n",
      "  (12, 73)\t1.0\n",
      "  (13, 75)\t1.0\n",
      "  (13, 58)\t1.0\n",
      "  (13, 57)\t1.0\n",
      "  (14, 76)\t1.0\n",
      "  (14, 29)\t1.0\n",
      "  (14, 26)\t1.0\n",
      "  (14, 31)\t1.0\n",
      "  (14, 25)\t1.0\n",
      "  (14, 55)\t1.0\n",
      "  (14, 24)\t1.0\n",
      "  (15, 77)\t1.0\n",
      "  (15, 23)\t1.0\n",
      "  (15, 32)\t1.0\n",
      "  (15, 21)\t1.0\n",
      "  (15, 51)\t1.0\n",
      "  (15, 34)\t1.0\n",
      "  (16, 78)\t1.0\n",
      "  :\t:\n",
      "  (84, 74)\t1.0\n",
      "  (85, 74)\t1.0\n",
      "  (86, 76)\t1.0\n",
      "  (86, 74)\t1.0\n",
      "  (88, 74)\t1.0\n",
      "  (88, 78)\t1.0\n",
      "  (89, 75)\t1.0\n",
      "  (89, 80)\t1.0\n",
      "  (90, 76)\t1.0\n",
      "  (90, 81)\t1.0\n",
      "  (91, 81)\t1.0\n",
      "  (91, 77)\t1.0\n",
      "  (92, 81)\t1.0\n",
      "  (92, 79)\t1.0\n",
      "  (93, 81)\t1.0\n",
      "  (60, 89)\t1.0\n",
      "  (61, 87)\t1.0\n",
      "  (60, 87)\t1.0\n",
      "  (57, 89)\t1.0\n",
      "  (55, 89)\t1.0\n",
      "  (62, 84)\t1.0\n",
      "  (63, 82)\t1.0\n",
      "  (63, 83)\t1.0\n",
      "  (64, 78)\t1.0\n",
      "  (15, 53)\t1.0\n"
     ]
    }
   ],
   "source": [
    "# Now we will create a 1000x1000 matrix\n",
    "matrix_size=1000\n",
    "# Create the row and column indices for the sparse matrix\n",
    "rows = df['x'].values\n",
    "cols = df['y'].values\n",
    "\n",
    "# Create the data array with 1s, representing the presence of a point\n",
    "data = np.ones_like(rows)\n",
    "\n",
    "# Construct the sparse matrix\n",
    "sparse_matrix = coo_matrix((data, (rows, cols)), shape=(matrix_size, matrix_size))\n",
    "\n",
    "print(sparse_matrix)"
   ]
  },
  {
   "cell_type": "markdown",
   "id": "a62492be",
   "metadata": {},
   "source": [
    "## Matrix Rotation by 90 degree"
   ]
  },
  {
   "cell_type": "code",
   "execution_count": 33,
   "id": "f0abddc6",
   "metadata": {},
   "outputs": [],
   "source": [
    "dense_matrix = sparse_matrix.toarray()\n",
    "rotated_matrix = np.transpose(dense_matrix)[:]\n"
   ]
  },
  {
   "cell_type": "code",
   "execution_count": 34,
   "id": "68c40675",
   "metadata": {},
   "outputs": [
    {
     "name": "stdout",
     "output_type": "stream",
     "text": [
      "[[0. 0. 0. ... 0. 0. 0.]\n",
      " [0. 0. 0. ... 0. 0. 0.]\n",
      " [0. 0. 0. ... 0. 0. 0.]\n",
      " ...\n",
      " [0. 0. 0. ... 0. 0. 0.]\n",
      " [0. 0. 0. ... 0. 0. 0.]\n",
      " [0. 0. 0. ... 0. 0. 0.]]\n"
     ]
    }
   ],
   "source": [
    "print(rotated_matrix)"
   ]
  },
  {
   "cell_type": "markdown",
   "id": "ecb9a8a2",
   "metadata": {},
   "source": [
    "## Flip the matrix Horizontally"
   ]
  },
  {
   "cell_type": "code",
   "execution_count": 35,
   "id": "800fe535",
   "metadata": {},
   "outputs": [
    {
     "name": "stdout",
     "output_type": "stream",
     "text": [
      "[[0. 0. 0. ... 0. 0. 0.]\n",
      " [0. 0. 0. ... 0. 0. 0.]\n",
      " [0. 0. 0. ... 0. 0. 0.]\n",
      " ...\n",
      " [0. 0. 0. ... 0. 0. 0.]\n",
      " [0. 0. 0. ... 0. 0. 0.]\n",
      " [0. 0. 0. ... 0. 0. 0.]]\n"
     ]
    }
   ],
   "source": [
    "flipped_matrix = dense_matrix[:, :]\n",
    "print(flipped_matrix)"
   ]
  },
  {
   "cell_type": "markdown",
   "id": "a4b1960a",
   "metadata": {},
   "source": [
    "## Convert the rotated and flipped matrix into x-ycoordinated"
   ]
  },
  {
   "cell_type": "code",
   "execution_count": 36,
   "id": "3a0a6300",
   "metadata": {},
   "outputs": [
    {
     "name": "stdout",
     "output_type": "stream",
     "text": [
      "Rotated Coordinates: \n",
      "[(13, 24), (13, 25), (13, 26), (13, 27), (13, 28), (14, 20), (14, 21), (14, 22), (14, 23), (14, 29), (14, 30), (14, 31), (15, 19), (15, 32), (15, 33), (15, 47), (15, 48), (15, 49), (15, 50), (16, 18), (16, 34), (16, 35), (16, 51), (17, 17), (17, 36), (17, 37), (17, 46), (17, 52), (18, 17), (18, 38), (18, 53), (19, 39), (19, 45), (19, 54), (20, 16), (20, 40), (20, 55), (21, 15), (21, 41), (21, 45), (22, 42), (22, 56), (23, 15), (23, 43), (23, 46), (23, 56), (24, 14), (24, 44), (24, 57), (25, 14), (25, 45), (25, 46), (26, 14), (26, 58), (27, 47), (27, 58), (28, 48), (29, 14), (29, 49), (29, 59), (30, 50), (30, 60), (31, 14), (31, 51), (32, 15), (32, 60), (33, 52), (33, 61), (34, 15), (34, 53), (35, 16), (35, 19), (35, 20), (35, 21), (35, 54), (35, 61), (36, 17), (36, 18), (36, 55), (37, 17), (37, 22), (37, 61), (38, 16), (38, 19), (38, 20), (38, 21), (38, 56), (38, 61), (39, 57), (40, 16), (40, 57), (40, 58), (40, 61), (41, 58), (41, 61), (42, 16), (42, 59), (42, 60), (42, 69), (42, 70), (42, 71), (42, 72), (43, 58), (43, 68), (43, 73), (44, 16), (44, 61), (44, 68), (45, 59), (45, 60), (45, 62), (45, 74), (46, 16), (46, 58), (46, 60), (46, 63), (46, 68), (47, 75), (48, 16), (48, 57), (48, 60), (48, 64), (48, 65), (48, 68), (48, 75), (49, 57), (49, 66), (50, 16), (50, 61), (50, 67), (50, 69), (50, 74), (51, 15), (51, 56), (51, 61), (51, 69), (51, 71), (51, 72), (51, 73), (52, 55), (52, 70), (53, 15), (53, 54), (53, 62), (54, 53), (54, 62), (54, 71), (55, 14), (55, 72), (56, 52), (56, 63), (57, 13), (57, 51), (57, 72), (58, 13), (58, 50), (58, 63), (58, 73), (59, 49), (59, 74), (60, 64), (61, 12), (61, 48), (61, 64), (61, 75), (62, 11), (62, 47), (62, 76), (63, 46), (63, 48), (63, 64), (63, 77), (64, 11), (64, 45), (64, 48), (65, 65), (65, 78), (66, 10), (66, 44), (66, 49), (66, 79), (67, 43), (67, 49), (67, 65), (68, 11), (68, 43), (68, 80), (69, 42), (69, 50), (69, 65), (69, 81), (70, 11), (70, 41), (70, 50), (70, 82), (71, 40), (71, 65), (72, 11), (72, 39), (72, 65), (72, 83), (73, 12), (73, 38), (73, 51), (73, 84), (74, 37), (74, 51), (74, 65), (74, 84), (74, 85), (74, 86), (74, 88), (75, 13), (75, 36), (75, 89), (76, 14), (76, 35), (76, 51), (76, 86), (76, 90), (77, 15), (77, 65), (77, 91), (78, 16), (78, 33), (78, 52), (78, 64), (78, 88), (79, 17), (79, 52), (79, 92), (80, 18), (80, 19), (80, 30), (80, 63), (80, 89), (81, 20), (81, 21), (81, 27), (81, 28), (81, 29), (81, 52), (81, 90), (81, 91), (81, 92), (81, 93), (82, 22), (82, 23), (82, 24), (82, 25), (82, 26), (82, 63), (83, 53), (83, 63), (84, 62), (85, 53), (85, 61), (86, 54), (87, 60), (87, 61), (88, 55), (89, 55), (89, 57), (89, 58), (89, 60)]\n",
      "\n",
      "Flipped Coordinates: \n",
      "[(10, 66), (11, 62), (11, 64), (11, 68), (11, 70), (11, 72), (12, 61), (12, 73), (13, 57), (13, 58), (13, 75), (14, 24), (14, 25), (14, 26), (14, 29), (14, 31), (14, 55), (14, 76), (15, 21), (15, 23), (15, 32), (15, 34), (15, 51), (15, 53), (15, 77), (16, 20), (16, 35), (16, 38), (16, 40), (16, 42), (16, 44), (16, 46), (16, 48), (16, 50), (16, 78), (17, 17), (17, 18), (17, 36), (17, 37), (17, 79), (18, 16), (18, 36), (18, 80), (19, 15), (19, 35), (19, 38), (19, 80), (20, 14), (20, 35), (20, 38), (20, 81), (21, 14), (21, 35), (21, 38), (21, 81), (22, 14), (22, 37), (22, 82), (23, 14), (23, 82), (24, 13), (24, 82), (25, 13), (25, 82), (26, 13), (26, 82), (27, 13), (27, 81), (28, 13), (28, 81), (29, 14), (29, 81), (30, 14), (30, 80), (31, 14), (32, 15), (33, 15), (33, 78), (34, 16), (35, 16), (35, 76), (36, 17), (36, 75), (37, 17), (37, 74), (38, 18), (38, 73), (39, 19), (39, 72), (40, 20), (40, 71), (41, 21), (41, 70), (42, 22), (42, 69), (43, 23), (43, 67), (43, 68), (44, 24), (44, 66), (45, 19), (45, 21), (45, 25), (45, 64), (46, 17), (46, 23), (46, 25), (46, 63), (47, 15), (47, 27), (47, 62), (48, 15), (48, 28), (48, 61), (48, 63), (48, 64), (49, 15), (49, 29), (49, 59), (49, 66), (49, 67), (50, 15), (50, 30), (50, 58), (50, 69), (50, 70), (51, 16), (51, 31), (51, 57), (51, 73), (51, 74), (51, 76), (52, 17), (52, 33), (52, 56), (52, 78), (52, 79), (52, 81), (53, 18), (53, 34), (53, 54), (53, 83), (53, 85), (54, 19), (54, 35), (54, 53), (54, 86), (55, 20), (55, 36), (55, 52), (55, 88), (55, 89), (56, 22), (56, 23), (56, 38), (56, 51), (57, 24), (57, 39), (57, 40), (57, 48), (57, 49), (57, 89), (58, 26), (58, 27), (58, 40), (58, 41), (58, 43), (58, 46), (58, 89), (59, 29), (59, 42), (59, 45), (60, 30), (60, 32), (60, 42), (60, 45), (60, 46), (60, 48), (60, 87), (60, 89), (61, 33), (61, 35), (61, 37), (61, 38), (61, 40), (61, 41), (61, 44), (61, 50), (61, 51), (61, 85), (61, 87), (62, 45), (62, 53), (62, 54), (62, 84), (63, 46), (63, 56), (63, 58), (63, 80), (63, 82), (63, 83), (64, 48), (64, 60), (64, 61), (64, 63), (64, 78), (65, 48), (65, 65), (65, 67), (65, 69), (65, 71), (65, 72), (65, 74), (65, 77), (66, 49), (67, 50), (68, 43), (68, 44), (68, 46), (68, 48), (69, 42), (69, 50), (69, 51), (70, 42), (70, 52), (71, 42), (71, 51), (71, 54), (72, 42), (72, 51), (72, 55), (72, 57), (73, 43), (73, 51), (73, 58), (74, 45), (74, 50), (74, 59), (75, 47), (75, 48), (75, 61), (76, 62), (77, 63), (78, 65), (79, 66), (80, 68), (81, 69), (82, 70), (83, 72), (84, 73), (84, 74), (85, 74), (86, 74), (86, 76), (88, 74), (88, 78), (89, 75), (89, 80), (90, 76), (90, 81), (91, 77), (91, 81), (92, 79), (92, 81), (93, 81)]\n"
     ]
    }
   ],
   "source": [
    "# Function to convert matrix to coordinates\n",
    "def coordinates(matrix):\n",
    "    rows, cols = np.nonzero(matrix)\n",
    "    return list(zip(rows, cols))\n",
    "\n",
    "# Get coordinates from the rotated matrix\n",
    "rotated_coordinates = coordinates(rotated_matrix)\n",
    "print(\"Rotated Coordinates: \")\n",
    "print(rotated_coordinates)\n",
    "\n",
    "# Get coordinates from the flipped matrix\n",
    "flipped_coordinates = coordinates(flipped_matrix)\n",
    "print(\"\\nFlipped Coordinates: \")\n",
    "print(flipped_coordinates)"
   ]
  },
  {
   "cell_type": "markdown",
   "id": "71420ccd",
   "metadata": {},
   "source": [
    "# Visualization"
   ]
  },
  {
   "cell_type": "code",
   "execution_count": 37,
   "id": "b4fd604e",
   "metadata": {},
   "outputs": [
    {
     "data": {
      "image/png": "[encoded data removed]",
      "text/plain": [
       "<Figure size 720x360 with 2 Axes>"
      ]
     },
     "metadata": {
      "needs_background": "light"
     },
     "output_type": "display_data"
    }
   ],
   "source": [
    "plt.figure(figsize=(10,5))\n",
    "\n",
    "plt.subplot(1,2,1)\n",
    "plt.scatter(*zip(*rotated_coordinates),c='blue', s=2)\n",
    "plt.xlabel('x')\n",
    "plt.ylabel('y')\n",
    "plt.title('Rotated Image by 90 degree')\n",
    "plt.gca().invert_yaxis() \n",
    "\n",
    "\n",
    "plt.subplot(1,2,2)\n",
    "plt.scatter(*zip(*flipped_coordinates), c='red', s=2)\n",
    "plt.xlabel('x')\n",
    "plt.ylabel('y')\n",
    "plt.title('Flipped Image Horizonatally')\n",
    "plt.gca().invert_yaxis() \n",
    "\n",
    "plt.show()"
   ]
  },
  {
   "cell_type": "code",
   "execution_count": null,
   "id": "fd8d2b78",
   "metadata": {},
   "outputs": [],
   "source": []
  }
 ],
 "metadata": {
  "kernelspec": {
   "display_name": "Python 3",
   "language": "python",
   "name": "python3"
  },
  "language_info": {
   "codemirror_mode": {
    "name": "ipython",
    "version": 3
   },
   "file_extension": ".py",
   "mimetype": "text/x-python",
   "name": "python",
   "nbconvert_exporter": "python",
   "pygments_lexer": "ipython3",
   "version": "3.8.8"
  }
 },
 "nbformat": 4,
 "nbformat_minor": 5
}
